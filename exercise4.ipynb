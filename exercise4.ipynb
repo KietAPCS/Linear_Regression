{
 "cells": [
  {
   "cell_type": "markdown",
   "metadata": {},
   "source": [
    "# Exercise 4"
   ]
  },
  {
   "cell_type": "markdown",
   "metadata": {},
   "source": [
    "## Library"
   ]
  },
  {
   "cell_type": "code",
   "execution_count": 3,
   "metadata": {},
   "outputs": [],
   "source": [
    "import numpy as np\n",
    "import matplotlib.pyplot as plt\n",
    "import pandas as pd\n",
    "import random"
   ]
  },
  {
   "cell_type": "markdown",
   "metadata": {},
   "source": [
    "## Data preparation"
   ]
  },
  {
   "cell_type": "code",
   "execution_count": 4,
   "metadata": {},
   "outputs": [],
   "source": [
    "csv_file_name = \"advertising.csv\""
   ]
  },
  {
   "cell_type": "code",
   "execution_count": 5,
   "metadata": {},
   "outputs": [],
   "source": [
    "def get_column(data, index):\n",
    "    result = [row[index] for row in data]\n",
    "    return result\n",
    "\n",
    "def prepare_data(file_name_dataset):\n",
    "    data = np.genfromtxt(file_name_dataset, delimiter=',', skip_header=True).tolist()\n",
    "    \n",
    "    tv_data = get_column(data, 0)\n",
    "    radio_data = get_column(data, 1)\n",
    "    newspaper_data = get_column(data, 2)\n",
    "    sales_data = get_column(data, 3)\n",
    "    \n",
    "    X = [[1, x1, x2, x3] for x1, x2, x3 in zip(tv_data, radio_data, newspaper_data)]\n",
    "    y = sales_data\n",
    "    \n",
    "    return X, y\n",
    "    "
   ]
  },
  {
   "cell_type": "code",
   "execution_count": 6,
   "metadata": {},
   "outputs": [],
   "source": [
    "X, y = prepare_data(csv_file_name)"
   ]
  },
  {
   "cell_type": "code",
   "execution_count": 7,
   "metadata": {},
   "outputs": [
    {
     "data": {
      "text/plain": [
       "(200, 200)"
      ]
     },
     "execution_count": 7,
     "metadata": {},
     "output_type": "execute_result"
    }
   ],
   "source": [
    "len(X), len(y)"
   ]
  },
  {
   "cell_type": "markdown",
   "metadata": {},
   "source": [
    "## Linear regression using BGD"
   ]
  },
  {
   "cell_type": "code",
   "execution_count": 8,
   "metadata": {},
   "outputs": [],
   "source": [
    "def initialize_params():\n",
    "    bias = 0\n",
    "    w1 = random.gauss(mu=0, sigma=0.01)\n",
    "    w2 = random.gauss(mu=0, sigma=0.01)\n",
    "    w3 = random.gauss(mu=0, sigma=0.01)\n",
    "    \n",
    "    return [0, -0.01268850433497871 , 0.004752496982185252 , 0.0073796171538643845]\n",
    "    # return (bias, w1, w2, w3)"
   ]
  },
  {
   "cell_type": "code",
   "execution_count": 9,
   "metadata": {},
   "outputs": [],
   "source": [
    "def predict(X_features, weights):\n",
    "    result = 0\n",
    "    for x, w in zip(X_features, weights):\n",
    "        result += x * w\n",
    "    return result\n",
    "\n",
    "def compute_loss(y_hat, y):\n",
    "    return (y_hat - y) ** 2\n",
    "\n",
    "def compute_gradient_w(X_features, y, y_hat):\n",
    "    N = len(X_features)\n",
    "    dl_dweights = []\n",
    "    for i in range(N):\n",
    "        dweight = 2 * X_features[i] * (y_hat - y)\n",
    "        dl_dweights.append(dweight)\n",
    "    return dl_dweights\n",
    "\n",
    "def update_weights(weights, dl_dweights, lr):\n",
    "    for i in range(len(weights)):\n",
    "        weights[i] -= lr * dl_dweights[i]\n",
    "    return weights"
   ]
  },
  {
   "cell_type": "code",
   "execution_count": 18,
   "metadata": {},
   "outputs": [],
   "source": [
    "def implement_linear_regression(X_feature, y_output, epoch_max=50, lr=1e-5):\n",
    "    losses = []\n",
    "    weights = initialize_params()\n",
    "    N = len(y_output)\n",
    "    \n",
    "    for epoch in range(epoch_max):\n",
    "        total_loss = 0\n",
    "        for i in range(N):\n",
    "            features_i = X_feature[i]\n",
    "            y = y_output[i]\n",
    "            \n",
    "            y_hat = predict(features_i, weights)\n",
    "            \n",
    "            loss = compute_loss(y, y_hat)\n",
    "            total_loss += loss\n",
    "            \n",
    "            dl_dweights = compute_gradient_w(features_i, y, y_hat)\n",
    "            \n",
    "            weights = update_weights(weights, dl_dweights, lr)\n",
    "            \n",
    "            losses.append(loss)\n",
    "        \n",
    "        if ((epoch + 1) % 1000 == 0):\n",
    "            print(f\"Epoch: {epoch + 1}, Loss: {total_loss / N}\")\n",
    "        \n",
    "    return weights, losses"
   ]
  },
  {
   "cell_type": "code",
   "execution_count": 26,
   "metadata": {},
   "outputs": [
    {
     "name": "stdout",
     "output_type": "stream",
     "text": [
      "Epoch: 1000, Loss: 6.194930093625081\n",
      "Epoch: 2000, Loss: 5.344875980962622\n",
      "Epoch: 3000, Loss: 5.1496145494667225\n",
      "Epoch: 4000, Loss: 5.127325188355508\n",
      "Epoch: 5000, Loss: 5.141792463684308\n"
     ]
    }
   ],
   "source": [
    "X, y = prepare_data(csv_file_name)\n",
    "W, L = implement_linear_regression(X, y, epoch_max=5000, lr=1e-5)"
   ]
  },
  {
   "cell_type": "code",
   "execution_count": 27,
   "metadata": {},
   "outputs": [],
   "source": [
    "def visualize_linear_regression(losses):\n",
    "    plt.plot(losses[0:100])\n",
    "    plt.xlabel(\"#iteration\")\n",
    "    plt.ylabel(\"Loss\")\n",
    "    plt.show()"
   ]
  },
  {
   "cell_type": "code",
   "execution_count": 29,
   "metadata": {},
   "outputs": [
    {
     "data": {
      "image/png": "[encoded data removed]",
      "text/plain": [
       "<Figure size 640x480 with 1 Axes>"
      ]
     },
     "metadata": {},
     "output_type": "display_data"
    }
   ],
   "source": [
    "visualize_linear_regression(L)"
   ]
  },
  {
   "cell_type": "code",
   "execution_count": 30,
   "metadata": {},
   "outputs": [
    {
     "name": "stdout",
     "output_type": "stream",
     "text": [
      "31.339223408109948\n"
     ]
    }
   ],
   "source": [
    "print(L[9999])"
   ]
  },
  {
   "cell_type": "markdown",
   "metadata": {},
   "source": [
    "Q12: a) 31.33"
   ]
  }
 ],
 "metadata": {
  "kernelspec": {
   "display_name": "base",
   "language": "python",
   "name": "python3"
  },
  "language_info": {
   "codemirror_mode": {
    "name": "ipython",
    "version": 3
   },
   "file_extension": ".py",
   "mimetype": "text/x-python",
   "name": "python",
   "nbconvert_exporter": "python",
   "pygments_lexer": "ipython3",
   "version": "3.11.7"
  }
 },
 "nbformat": 4,
 "nbformat_minor": 2
}
