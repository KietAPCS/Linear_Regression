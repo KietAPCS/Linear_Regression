{
 "cells": [
  {
   "cell_type": "markdown",
   "metadata": {},
   "source": [
    "# Exercise 3"
   ]
  },
  {
   "cell_type": "markdown",
   "metadata": {},
   "source": [
    "## Library"
   ]
  },
  {
   "cell_type": "code",
   "execution_count": 1,
   "metadata": {},
   "outputs": [],
   "source": [
    "import numpy as np \n",
    "import matplotlib.pyplot as plt \n",
    "import random "
   ]
  },
  {
   "cell_type": "markdown",
   "metadata": {},
   "source": [
    "## Data preparation"
   ]
  },
  {
   "cell_type": "code",
   "execution_count": 2,
   "metadata": {},
   "outputs": [],
   "source": [
    "csv_file_name = \"advertising.csv\""
   ]
  },
  {
   "cell_type": "code",
   "execution_count": 3,
   "metadata": {},
   "outputs": [],
   "source": [
    "def get_column(data, index):\n",
    "    \n",
    "    data = [row[index] for row in data]\n",
    "    \n",
    "    return data \n",
    "\n",
    "def prepare_data(file_name):\n",
    "    data = np.genfromtxt(csv_file_name, delimiter=',', skip_header=True).tolist()\n",
    "    N = len(data)\n",
    "    \n",
    "    tv_data = get_column(data, 0)\n",
    "    radio_data = get_column(data, 1)\n",
    "    newspaper_data = get_column(data, 2)\n",
    "    sales_data = get_column(data, 3)\n",
    "    \n",
    "    X_data = [tv_data, radio_data, newspaper_data]\n",
    "    y_data = sales_data\n",
    "    \n",
    "    return X_data, y_data"
   ]
  },
  {
   "cell_type": "code",
   "execution_count": 4,
   "metadata": {},
   "outputs": [],
   "source": [
    "X_data, y_data = prepare_data(csv_file_name)"
   ]
  },
  {
   "cell_type": "markdown",
   "metadata": {},
   "source": [
    "## Batch Linear Regression (MSE Loss)"
   ]
  },
  {
   "cell_type": "code",
   "execution_count": 14,
   "metadata": {},
   "outputs": [],
   "source": [
    "def initialize_params():\n",
    "    w1 , w2 , w3 , b = (0.016992259082509283 , 0.0070783670518262355 , -0.002307860847821344 , 0)\n",
    "    return w1, w2, w3, b \n",
    "\n",
    "def predict(x1, x2, x3, w1, w2, w3, b):\n",
    "    result = x1 * w1 + x2 * w2 + x3 * w3 + b \n",
    "    return result\n",
    "\n",
    "def compute_loss_mse(y, y_hat):\n",
    "    return 0.5 * (y_hat - y) ** 2\n",
    "\n",
    "def compute_gradient_wi_mse(xi, y, y_hat):\n",
    "    return xi * (y_hat - y)\n",
    "\n",
    "def compute_gradient_b_mse(y, y_hat):\n",
    "    return (y_hat - y)\n",
    "\n",
    "def update_parameters(x, dx, lr, N):\n",
    "    return x - lr * (dx / N)"
   ]
  },
  {
   "cell_type": "code",
   "execution_count": 15,
   "metadata": {},
   "outputs": [],
   "source": [
    "def implement_linear_regression_nsamples (X_data , y_data , epoch_max=50 , lr=1e-5):\n",
    "    losses = []\n",
    "    \n",
    "    w1, w2, w3, b = initialize_params()\n",
    "    N = len(y_data)\n",
    "    \n",
    "    for epoch in range(epoch_max):\n",
    "        loss_total = 0.0\n",
    "        dw1_total = 0.0\n",
    "        dw2_total = 0.0\n",
    "        dw3_total = 0.0\n",
    "        db_total = 0.0\n",
    "        \n",
    "        for i in range(N):\n",
    "            x1 = X_data[0][i]\n",
    "            x2 = X_data[1][i]\n",
    "            x3 = X_data[2][i]\n",
    "            \n",
    "            y = y_data[i]\n",
    "            \n",
    "            y_hat = predict(x1, x2, x3, w1, w2, w3, b)\n",
    "            \n",
    "            loss = compute_loss_mse(y, y_hat)\n",
    "                        \n",
    "            loss_total += loss \n",
    "            \n",
    "            dl_dw1 = compute_gradient_wi_mse(x1, y, y_hat)\n",
    "            dl_dw2 = compute_gradient_wi_mse(x2, y, y_hat)\n",
    "            dl_dw3 = compute_gradient_wi_mse(x3, y, y_hat)\n",
    "            dl_db = compute_gradient_b_mse(y, y_hat)\n",
    "            \n",
    "            dw1_total += dl_dw1\n",
    "            dw2_total += dl_dw2 \n",
    "            dw3_total += dl_dw3 \n",
    "            db_total += dl_db\n",
    "        \n",
    "        w1 = update_parameters(w1, dw1_total, lr, N)\n",
    "        w2 = update_parameters(w2, dw2_total, lr, N)\n",
    "        w3 = update_parameters(w3, dw3_total, lr, N) \n",
    "        b = update_parameters(b, db_total, lr, N)\n",
    "        \n",
    "        losses.append(loss_total / N)\n",
    "        \n",
    "    return (w1, w2, w3, b, losses)"
   ]
  },
  {
   "cell_type": "code",
   "execution_count": 16,
   "metadata": {},
   "outputs": [],
   "source": [
    "def visualize_mse_linear_regression(losses):\n",
    "    plt.plot(losses)\n",
    "    plt.xlabel(\"#epoch\")\n",
    "    plt.ylabel(\"MSE Loss\")\n",
    "    plt.show()"
   ]
  },
  {
   "cell_type": "code",
   "execution_count": 20,
   "metadata": {},
   "outputs": [],
   "source": [
    "(w1, w2, w3, b, losses) = implement_linear_regression_nsamples(X_data, y_data, epoch_max=10000, lr=1e-5)"
   ]
  },
  {
   "cell_type": "code",
   "execution_count": 21,
   "metadata": {},
   "outputs": [
    {
     "data": {
      "image/png": "[encoded data removed]",
      "text/plain": [
       "<Figure size 640x480 with 1 Axes>"
      ]
     },
     "metadata": {},
     "output_type": "display_data"
    }
   ],
   "source": [
    "visualize_mse_linear_regression(losses)"
   ]
  },
  {
   "cell_type": "code",
   "execution_count": 23,
   "metadata": {},
   "outputs": [
    {
     "name": "stdout",
     "output_type": "stream",
     "text": [
      "0.06688781694172043 0.159266373919619 0.028009178263497313 0.06907655199400516\n"
     ]
    }
   ],
   "source": [
    "print(w1, w2, w3, b)"
   ]
  },
  {
   "cell_type": "markdown",
   "metadata": {},
   "source": [
    "Q11: d) w1 = 0.0786 , w2 = 0.009 , w3 = 3.387e -06"
   ]
  },
  {
   "cell_type": "markdown",
   "metadata": {},
   "source": [
    "## Batch Linear Regression (MAE Loss)"
   ]
  },
  {
   "cell_type": "code",
   "execution_count": 24,
   "metadata": {},
   "outputs": [],
   "source": [
    "def compute_loss_mae(y, y_hat):\n",
    "    return np.abs(y_hat - y)\n",
    "\n",
    "def compute_gradient_wi_mae(xi, y, y_hat):\n",
    "    return xi * np.sign(y_hat - y)\n",
    "\n",
    "def compute_gradient_b_mae(y, y_hat):\n",
    "    return np.sign(y_hat - y)"
   ]
  },
  {
   "cell_type": "code",
   "execution_count": 25,
   "metadata": {},
   "outputs": [],
   "source": [
    "def implement_linear_regression_nsamples_mae(X_data , y_data , epoch_max=50 , lr=1e-5):\n",
    "    losses = []\n",
    "    \n",
    "    w1, w2, w3, b = initialize_params()\n",
    "    N = len(y_data)\n",
    "    \n",
    "    for epoch in range(epoch_max):\n",
    "        loss_total = 0.0\n",
    "        dw1_total = 0.0\n",
    "        dw2_total = 0.0\n",
    "        dw3_total = 0.0\n",
    "        db_total = 0.0\n",
    "        \n",
    "        for i in range(N):\n",
    "            x1 = X_data[0][i]\n",
    "            x2 = X_data[1][i]\n",
    "            x3 = X_data[2][i]\n",
    "            \n",
    "            y = y_data[i]\n",
    "            \n",
    "            y_hat = predict(x1, x2, x3, w1, w2, w3, b)\n",
    "            \n",
    "            loss = compute_loss_mae(y, y_hat)\n",
    "                        \n",
    "            loss_total += loss \n",
    "            \n",
    "            dl_dw1 = compute_gradient_wi_mae(x1, y, y_hat)\n",
    "            dl_dw2 = compute_gradient_wi_mae(x2, y, y_hat)\n",
    "            dl_dw3 = compute_gradient_wi_mae(x3, y, y_hat)\n",
    "            dl_db = compute_gradient_b_mae(y, y_hat)\n",
    "            \n",
    "            dw1_total += dl_dw1\n",
    "            dw2_total += dl_dw2 \n",
    "            dw3_total += dl_dw3 \n",
    "            db_total += dl_db\n",
    "        \n",
    "        w1 = update_parameters(w1, dw1_total, lr, N)\n",
    "        w2 = update_parameters(w2, dw2_total, lr, N)\n",
    "        w3 = update_parameters(w3, dw3_total, lr, N) \n",
    "        b = update_parameters(b, db_total, lr, N)\n",
    "        \n",
    "        losses.append(loss_total / N)\n",
    "        \n",
    "    return (w1, w2, w3, b, losses)"
   ]
  },
  {
   "cell_type": "code",
   "execution_count": 26,
   "metadata": {},
   "outputs": [],
   "source": [
    "(w1, w2, w3, b, losses) = implement_linear_regression_nsamples_mae(X_data, y_data, epoch_max=10000, lr=1e-5)"
   ]
  },
  {
   "cell_type": "code",
   "execution_count": 27,
   "metadata": {},
   "outputs": [],
   "source": [
    "def visualize_mae_linear_regression(losses):\n",
    "    plt.plot(losses)\n",
    "    plt.xlabel(\"#epoch\")\n",
    "    plt.ylabel(\"MAE Loss\")\n",
    "    plt.show()"
   ]
  },
  {
   "cell_type": "code",
   "execution_count": 28,
   "metadata": {},
   "outputs": [
    {
     "data": {
      "image/png": "[encoded data removed]",
      "text/plain": [
       "<Figure size 640x480 with 1 Axes>"
      ]
     },
     "metadata": {},
     "output_type": "display_data"
    }
   ],
   "source": [
    "visualize_mae_linear_regression(losses)"
   ]
  },
  {
   "cell_type": "code",
   "execution_count": 30,
   "metadata": {},
   "outputs": [
    {
     "name": "stdout",
     "output_type": "stream",
     "text": [
      "0.06487487908250957 0.17159839705178181 0.027479689152175368 0.025339899999997553\n"
     ]
    }
   ],
   "source": [
    "print(w1, w2, w3, b)"
   ]
  }
 ],
 "metadata": {
  "kernelspec": {
   "display_name": "base",
   "language": "python",
   "name": "python3"
  },
  "language_info": {
   "codemirror_mode": {
    "name": "ipython",
    "version": 3
   },
   "file_extension": ".py",
   "mimetype": "text/x-python",
   "name": "python",
   "nbconvert_exporter": "python",
   "pygments_lexer": "ipython3",
   "version": "3.11.7"
  }
 },
 "nbformat": 4,
 "nbformat_minor": 2
}
